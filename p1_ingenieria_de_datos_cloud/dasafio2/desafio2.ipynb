{
 "cells": [
  {
   "cell_type": "code",
   "execution_count": 1,
   "metadata": {},
   "outputs": [],
   "source": [
    "from load_data.load_data import LoadData"
   ]
  },
  {
   "cell_type": "code",
   "execution_count": 2,
   "metadata": {},
   "outputs": [
    {
     "name": "stdout",
     "output_type": "stream",
     "text": [
      "Archivo department\\department.csv subido exitosamente a Azure Blob Storage en el contenedor rawdata.\n",
      "Archivo employee\\employee.csv subido exitosamente a Azure Blob Storage en el contenedor rawdata.\n",
      "Archivo job_position\\job_position.csv subido exitosamente a Azure Blob Storage en el contenedor rawdata.\n"
     ]
    }
   ],
   "source": [
    "load_data = LoadData()\n",
    "# Datos de la cuenta de almacenamiento\n",
    "storage_account_name = input(\"ingrese su storage_account_name: \")\n",
    "storage_account_key = input(\"ingrese su storage_account_key: \")\n",
    "\n",
    "# Nombre del contenedor en Azure Blob Storage\n",
    "container_name = \"rawdata\"\n",
    "\n",
    "# Ruta local del archivo que deseas subir\n",
    "file_path = \"C:/Users/edwin/Documents/Repos/DataEngTestGlobalMVM/p1_ingenieria_de_datos_cloud/desafio1/data_resources\"\n",
    "\n",
    "# Subir el archivo al contenedor de Azure Blob Storage\n",
    "load_data._upload_csv_files_to_azure_blob(file_path, storage_account_name, storage_account_key, container_name)"
   ]
  },
  {
   "cell_type": "code",
   "execution_count": null,
   "metadata": {},
   "outputs": [],
   "source": []
  }
 ],
 "metadata": {
  "kernelspec": {
   "display_name": "venv",
   "language": "python",
   "name": "python3"
  },
  "language_info": {
   "codemirror_mode": {
    "name": "ipython",
    "version": 3
   },
   "file_extension": ".py",
   "mimetype": "text/x-python",
   "name": "python",
   "nbconvert_exporter": "python",
   "pygments_lexer": "ipython3",
   "version": "3.12.2"
  }
 },
 "nbformat": 4,
 "nbformat_minor": 2
}
