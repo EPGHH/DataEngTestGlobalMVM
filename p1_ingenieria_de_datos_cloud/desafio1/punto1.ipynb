{
 "cells": [
  {
   "cell_type": "code",
   "execution_count": 1,
   "metadata": {},
   "outputs": [],
   "source": [
    "from departament_add.departament_add import DepartmentAdd\n",
    "from job_position_add.job_position_add import JobPositionAdd\n",
    "from employee_add.employee_add import EmployeeAdd\n",
    "from gui.gui_department_form.gui_department_form import GuiDepartmentForm\n",
    "from gui.gui_job_position_form.gui_job_position_form import GuiJobPositionForm\n",
    "from gui.gui_employee_form.gui_employee_form import GuiEmployeeForm\n",
    "import tkinter as tk"
   ]
  },
  {
   "cell_type": "code",
   "execution_count": 2,
   "metadata": {},
   "outputs": [],
   "source": [
    "# Crear la ventana principal de la aplicación\n",
    "departament_add = DepartmentAdd()\n",
    "root = tk.Tk()\n",
    "app = GuiDepartmentForm(root, departament_add)\n",
    "root.mainloop()"
   ]
  },
  {
   "cell_type": "code",
   "execution_count": 2,
   "metadata": {},
   "outputs": [],
   "source": [
    "# Crear la ventana principal de la aplicación\n",
    "job_position_add = JobPositionAdd()\n",
    "root = tk.Tk()\n",
    "app = GuiJobPositionForm(root, job_position_add)\n",
    "root.mainloop()"
   ]
  },
  {
   "cell_type": "code",
   "execution_count": 3,
   "metadata": {},
   "outputs": [
    {
     "name": "stdout",
     "output_type": "stream",
     "text": [
      "Rector\n",
      "1 1 asdasd asdasdasd asdasd asdasd asdasd asdasd asdasd\n",
      "Rector\n",
      "2 1 asdasd asdasdasd asdasd asdasd asdasd asdasd asdasd\n",
      "mate\n",
      "2 2 asdasd asdasdasd asdasd asdasd asdasd asdasd asdasd\n",
      "mate\n",
      "3 2 asdasd asdasdasd asdasd asdasd asdasd asdasd asdasd\n"
     ]
    }
   ],
   "source": [
    "# Crear la ventana principal de la aplicación\n",
    "employee_add = EmployeeAdd()\n",
    "root = tk.Tk()\n",
    "app = GuiEmployeeForm(root, employee_add)\n",
    "root.mainloop()"
   ]
  },
  {
   "cell_type": "code",
   "execution_count": null,
   "metadata": {},
   "outputs": [],
   "source": []
  }
 ],
 "metadata": {
  "kernelspec": {
   "display_name": "Python 3",
   "language": "python",
   "name": "python3"
  },
  "language_info": {
   "codemirror_mode": {
    "name": "ipython",
    "version": 3
   },
   "file_extension": ".py",
   "mimetype": "text/x-python",
   "name": "python",
   "nbconvert_exporter": "python",
   "pygments_lexer": "ipython3",
   "version": "3.12.2"
  }
 },
 "nbformat": 4,
 "nbformat_minor": 2
}
